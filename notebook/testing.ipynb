{
 "cells": [
  {
   "cell_type": "code",
   "execution_count": 1,
   "metadata": {},
   "outputs": [],
   "source": [
    "import os\n",
    "os.chdir('../')"
   ]
  },
  {
   "cell_type": "code",
   "execution_count": 2,
   "metadata": {},
   "outputs": [],
   "source": [
    "import numpy as np\n",
    "import pandas as pd\n",
    "import streamlit as st\n",
    "import matplotlib.pyplot as plt\n",
    "import plotly.express as px\n"
   ]
  },
  {
   "cell_type": "code",
   "execution_count": 3,
   "metadata": {},
   "outputs": [],
   "source": [
    "import config"
   ]
  },
  {
   "cell_type": "code",
   "execution_count": 4,
   "metadata": {},
   "outputs": [],
   "source": [
    "params = config.Config()"
   ]
  },
  {
   "cell_type": "code",
   "execution_count": 5,
   "metadata": {},
   "outputs": [],
   "source": [
    "path_csv = 'data/energy_data/energy_data.csv'"
   ]
  },
  {
   "cell_type": "code",
   "execution_count": 6,
   "metadata": {},
   "outputs": [],
   "source": [
    "cols = [\n",
    "    'country',\n",
    "    'country_long',\n",
    "    'name',\n",
    "    'capacity_mw',\n",
    "    'latitude',\n",
    "    'longitude',\n",
    "    'primary_fuel'\n",
    "]"
   ]
  },
  {
   "cell_type": "code",
   "execution_count": 7,
   "metadata": {},
   "outputs": [],
   "source": [
    "data_csv = pd.read_csv(path_csv, usecols=cols)\n",
    "data_csv['capacity_mw_size'] = data_csv['capacity_mw']/50"
   ]
  },
  {
   "cell_type": "code",
   "execution_count": 8,
   "metadata": {},
   "outputs": [
    {
     "data": {
      "text/html": [
       "<div>\n",
       "<style scoped>\n",
       "    .dataframe tbody tr th:only-of-type {\n",
       "        vertical-align: middle;\n",
       "    }\n",
       "\n",
       "    .dataframe tbody tr th {\n",
       "        vertical-align: top;\n",
       "    }\n",
       "\n",
       "    .dataframe thead th {\n",
       "        text-align: right;\n",
       "    }\n",
       "</style>\n",
       "<table border=\"1\" class=\"dataframe\">\n",
       "  <thead>\n",
       "    <tr style=\"text-align: right;\">\n",
       "      <th></th>\n",
       "      <th>country</th>\n",
       "      <th>country_long</th>\n",
       "      <th>name</th>\n",
       "      <th>capacity_mw</th>\n",
       "      <th>latitude</th>\n",
       "      <th>longitude</th>\n",
       "      <th>primary_fuel</th>\n",
       "      <th>capacity_mw_size</th>\n",
       "    </tr>\n",
       "  </thead>\n",
       "  <tbody>\n",
       "    <tr>\n",
       "      <th>0</th>\n",
       "      <td>AFG</td>\n",
       "      <td>Afghanistan</td>\n",
       "      <td>Kajaki Hydroelectric Power Plant Afghanistan</td>\n",
       "      <td>33.0</td>\n",
       "      <td>32.322</td>\n",
       "      <td>65.1190</td>\n",
       "      <td>Hydro</td>\n",
       "      <td>0.66</td>\n",
       "    </tr>\n",
       "    <tr>\n",
       "      <th>1</th>\n",
       "      <td>AFG</td>\n",
       "      <td>Afghanistan</td>\n",
       "      <td>Kandahar DOG</td>\n",
       "      <td>10.0</td>\n",
       "      <td>31.670</td>\n",
       "      <td>65.7950</td>\n",
       "      <td>Solar</td>\n",
       "      <td>0.20</td>\n",
       "    </tr>\n",
       "    <tr>\n",
       "      <th>2</th>\n",
       "      <td>AFG</td>\n",
       "      <td>Afghanistan</td>\n",
       "      <td>Kandahar JOL</td>\n",
       "      <td>10.0</td>\n",
       "      <td>31.623</td>\n",
       "      <td>65.7920</td>\n",
       "      <td>Solar</td>\n",
       "      <td>0.20</td>\n",
       "    </tr>\n",
       "    <tr>\n",
       "      <th>3</th>\n",
       "      <td>AFG</td>\n",
       "      <td>Afghanistan</td>\n",
       "      <td>Mahipar Hydroelectric Power Plant Afghanistan</td>\n",
       "      <td>66.0</td>\n",
       "      <td>34.556</td>\n",
       "      <td>69.4787</td>\n",
       "      <td>Hydro</td>\n",
       "      <td>1.32</td>\n",
       "    </tr>\n",
       "    <tr>\n",
       "      <th>4</th>\n",
       "      <td>AFG</td>\n",
       "      <td>Afghanistan</td>\n",
       "      <td>Naghlu Dam Hydroelectric Power Plant Afghanistan</td>\n",
       "      <td>100.0</td>\n",
       "      <td>34.641</td>\n",
       "      <td>69.7170</td>\n",
       "      <td>Hydro</td>\n",
       "      <td>2.00</td>\n",
       "    </tr>\n",
       "  </tbody>\n",
       "</table>\n",
       "</div>"
      ],
      "text/plain": [
       "  country country_long                                              name  \\\n",
       "0     AFG  Afghanistan      Kajaki Hydroelectric Power Plant Afghanistan   \n",
       "1     AFG  Afghanistan                                      Kandahar DOG   \n",
       "2     AFG  Afghanistan                                      Kandahar JOL   \n",
       "3     AFG  Afghanistan     Mahipar Hydroelectric Power Plant Afghanistan   \n",
       "4     AFG  Afghanistan  Naghlu Dam Hydroelectric Power Plant Afghanistan   \n",
       "\n",
       "   capacity_mw  latitude  longitude primary_fuel  capacity_mw_size  \n",
       "0         33.0    32.322    65.1190        Hydro              0.66  \n",
       "1         10.0    31.670    65.7950        Solar              0.20  \n",
       "2         10.0    31.623    65.7920        Solar              0.20  \n",
       "3         66.0    34.556    69.4787        Hydro              1.32  \n",
       "4        100.0    34.641    69.7170        Hydro              2.00  "
      ]
     },
     "execution_count": 8,
     "metadata": {},
     "output_type": "execute_result"
    }
   ],
   "source": [
    "data_csv.head()"
   ]
  },
  {
   "cell_type": "code",
   "execution_count": 9,
   "metadata": {},
   "outputs": [
    {
     "name": "stderr",
     "output_type": "stream",
     "text": [
      "/tmp/ipykernel_19335/2722735298.py:1: FutureWarning: The default value of numeric_only in DataFrameGroupBy.sum is deprecated. In a future version, numeric_only will default to False. Either specify numeric_only or select only columns which should be valid for the function.\n",
      "  plant_counter = data_csv.groupby('primary_fuel').sum()['capacity_mw'].reset_index()\n"
     ]
    }
   ],
   "source": [
    "plant_counter = data_csv.groupby('primary_fuel').sum()['capacity_mw'].reset_index()"
   ]
  },
  {
   "cell_type": "code",
   "execution_count": 10,
   "metadata": {},
   "outputs": [],
   "source": [
    "data_csv['filter'] = data_csv.primary_fuel.apply(lambda x: x in params.ENERGY_TYPES)\n"
   ]
  },
  {
   "cell_type": "code",
   "execution_count": 11,
   "metadata": {},
   "outputs": [
    {
     "data": {
      "text/plain": [
       "country_long\n",
       "United States of America    104233.1\n",
       "France                       63130.0\n",
       "Japan                        42537.0\n",
       "China                        33402.0\n",
       "Russia                       28168.0\n",
       "South Korea                  23076.0\n",
       "Canada                       14254.0\n",
       "Ukraine                      13835.0\n",
       "Germany                      11171.0\n",
       "Sweden                        9762.0\n",
       "United Kingdom                8918.0\n",
       "India                         8780.0\n",
       "Name: capacity_mw, dtype: float64"
      ]
     },
     "execution_count": 11,
     "metadata": {},
     "output_type": "execute_result"
    }
   ],
   "source": [
    "temp_data = data_csv[data_csv.primary_fuel == 'Nuclear']\n",
    "temp_data.groupby('country_long').sum('capacity_mw').sort_values('capacity_mw', ascending=False)['capacity_mw'][:12]"
   ]
  },
  {
   "cell_type": "code",
   "execution_count": 12,
   "metadata": {},
   "outputs": [
    {
     "data": {
      "text/html": [
       "<div>\n",
       "<style scoped>\n",
       "    .dataframe tbody tr th:only-of-type {\n",
       "        vertical-align: middle;\n",
       "    }\n",
       "\n",
       "    .dataframe tbody tr th {\n",
       "        vertical-align: top;\n",
       "    }\n",
       "\n",
       "    .dataframe thead th {\n",
       "        text-align: right;\n",
       "    }\n",
       "</style>\n",
       "<table border=\"1\" class=\"dataframe\">\n",
       "  <thead>\n",
       "    <tr style=\"text-align: right;\">\n",
       "      <th></th>\n",
       "      <th>country</th>\n",
       "      <th>country_long</th>\n",
       "      <th>name</th>\n",
       "      <th>capacity_mw</th>\n",
       "      <th>latitude</th>\n",
       "      <th>longitude</th>\n",
       "      <th>primary_fuel</th>\n",
       "      <th>capacity_mw_size</th>\n",
       "      <th>filter</th>\n",
       "    </tr>\n",
       "  </thead>\n",
       "  <tbody>\n",
       "    <tr>\n",
       "      <th>0</th>\n",
       "      <td>AFG</td>\n",
       "      <td>Afghanistan</td>\n",
       "      <td>Kajaki Hydroelectric Power Plant Afghanistan</td>\n",
       "      <td>33.0</td>\n",
       "      <td>32.3220</td>\n",
       "      <td>65.1190</td>\n",
       "      <td>Hydro</td>\n",
       "      <td>0.66</td>\n",
       "      <td>True</td>\n",
       "    </tr>\n",
       "    <tr>\n",
       "      <th>1</th>\n",
       "      <td>AFG</td>\n",
       "      <td>Afghanistan</td>\n",
       "      <td>Kandahar DOG</td>\n",
       "      <td>10.0</td>\n",
       "      <td>31.6700</td>\n",
       "      <td>65.7950</td>\n",
       "      <td>Solar</td>\n",
       "      <td>0.20</td>\n",
       "      <td>True</td>\n",
       "    </tr>\n",
       "    <tr>\n",
       "      <th>2</th>\n",
       "      <td>AFG</td>\n",
       "      <td>Afghanistan</td>\n",
       "      <td>Kandahar JOL</td>\n",
       "      <td>10.0</td>\n",
       "      <td>31.6230</td>\n",
       "      <td>65.7920</td>\n",
       "      <td>Solar</td>\n",
       "      <td>0.20</td>\n",
       "      <td>True</td>\n",
       "    </tr>\n",
       "    <tr>\n",
       "      <th>3</th>\n",
       "      <td>AFG</td>\n",
       "      <td>Afghanistan</td>\n",
       "      <td>Mahipar Hydroelectric Power Plant Afghanistan</td>\n",
       "      <td>66.0</td>\n",
       "      <td>34.5560</td>\n",
       "      <td>69.4787</td>\n",
       "      <td>Hydro</td>\n",
       "      <td>1.32</td>\n",
       "      <td>True</td>\n",
       "    </tr>\n",
       "    <tr>\n",
       "      <th>4</th>\n",
       "      <td>AFG</td>\n",
       "      <td>Afghanistan</td>\n",
       "      <td>Naghlu Dam Hydroelectric Power Plant Afghanistan</td>\n",
       "      <td>100.0</td>\n",
       "      <td>34.6410</td>\n",
       "      <td>69.7170</td>\n",
       "      <td>Hydro</td>\n",
       "      <td>2.00</td>\n",
       "      <td>True</td>\n",
       "    </tr>\n",
       "    <tr>\n",
       "      <th>...</th>\n",
       "      <td>...</td>\n",
       "      <td>...</td>\n",
       "      <td>...</td>\n",
       "      <td>...</td>\n",
       "      <td>...</td>\n",
       "      <td>...</td>\n",
       "      <td>...</td>\n",
       "      <td>...</td>\n",
       "      <td>...</td>\n",
       "    </tr>\n",
       "    <tr>\n",
       "      <th>34931</th>\n",
       "      <td>ZMB</td>\n",
       "      <td>Zambia</td>\n",
       "      <td>Ndola</td>\n",
       "      <td>50.0</td>\n",
       "      <td>-12.9667</td>\n",
       "      <td>28.6333</td>\n",
       "      <td>Oil</td>\n",
       "      <td>1.00</td>\n",
       "      <td>False</td>\n",
       "    </tr>\n",
       "    <tr>\n",
       "      <th>34932</th>\n",
       "      <td>ZMB</td>\n",
       "      <td>Zambia</td>\n",
       "      <td>Nkana</td>\n",
       "      <td>20.0</td>\n",
       "      <td>-12.8167</td>\n",
       "      <td>28.2000</td>\n",
       "      <td>Oil</td>\n",
       "      <td>0.40</td>\n",
       "      <td>False</td>\n",
       "    </tr>\n",
       "    <tr>\n",
       "      <th>34933</th>\n",
       "      <td>ZMB</td>\n",
       "      <td>Zambia</td>\n",
       "      <td>Victoria Falls</td>\n",
       "      <td>108.0</td>\n",
       "      <td>-17.9167</td>\n",
       "      <td>25.8500</td>\n",
       "      <td>Hydro</td>\n",
       "      <td>2.16</td>\n",
       "      <td>True</td>\n",
       "    </tr>\n",
       "    <tr>\n",
       "      <th>34934</th>\n",
       "      <td>ZWE</td>\n",
       "      <td>Zimbabwe</td>\n",
       "      <td>Hwange Coal Power Plant Zimbabwe</td>\n",
       "      <td>920.0</td>\n",
       "      <td>-18.3835</td>\n",
       "      <td>26.4700</td>\n",
       "      <td>Coal</td>\n",
       "      <td>18.40</td>\n",
       "      <td>False</td>\n",
       "    </tr>\n",
       "    <tr>\n",
       "      <th>34935</th>\n",
       "      <td>ZWE</td>\n",
       "      <td>Zimbabwe</td>\n",
       "      <td>Kariba Dam South Hydroelectric Power Station Z...</td>\n",
       "      <td>750.0</td>\n",
       "      <td>-16.5222</td>\n",
       "      <td>28.7619</td>\n",
       "      <td>Hydro</td>\n",
       "      <td>15.00</td>\n",
       "      <td>True</td>\n",
       "    </tr>\n",
       "  </tbody>\n",
       "</table>\n",
       "<p>34936 rows × 9 columns</p>\n",
       "</div>"
      ],
      "text/plain": [
       "      country country_long                                               name  \\\n",
       "0         AFG  Afghanistan       Kajaki Hydroelectric Power Plant Afghanistan   \n",
       "1         AFG  Afghanistan                                       Kandahar DOG   \n",
       "2         AFG  Afghanistan                                       Kandahar JOL   \n",
       "3         AFG  Afghanistan      Mahipar Hydroelectric Power Plant Afghanistan   \n",
       "4         AFG  Afghanistan   Naghlu Dam Hydroelectric Power Plant Afghanistan   \n",
       "...       ...          ...                                                ...   \n",
       "34931     ZMB       Zambia                                              Ndola   \n",
       "34932     ZMB       Zambia                                              Nkana   \n",
       "34933     ZMB       Zambia                                     Victoria Falls   \n",
       "34934     ZWE     Zimbabwe                   Hwange Coal Power Plant Zimbabwe   \n",
       "34935     ZWE     Zimbabwe  Kariba Dam South Hydroelectric Power Station Z...   \n",
       "\n",
       "       capacity_mw  latitude  longitude primary_fuel  capacity_mw_size  filter  \n",
       "0             33.0   32.3220    65.1190        Hydro              0.66    True  \n",
       "1             10.0   31.6700    65.7950        Solar              0.20    True  \n",
       "2             10.0   31.6230    65.7920        Solar              0.20    True  \n",
       "3             66.0   34.5560    69.4787        Hydro              1.32    True  \n",
       "4            100.0   34.6410    69.7170        Hydro              2.00    True  \n",
       "...            ...       ...        ...          ...               ...     ...  \n",
       "34931         50.0  -12.9667    28.6333          Oil              1.00   False  \n",
       "34932         20.0  -12.8167    28.2000          Oil              0.40   False  \n",
       "34933        108.0  -17.9167    25.8500        Hydro              2.16    True  \n",
       "34934        920.0  -18.3835    26.4700         Coal             18.40   False  \n",
       "34935        750.0  -16.5222    28.7619        Hydro             15.00    True  \n",
       "\n",
       "[34936 rows x 9 columns]"
      ]
     },
     "execution_count": 12,
     "metadata": {},
     "output_type": "execute_result"
    }
   ],
   "source": [
    "data_csv"
   ]
  },
  {
   "cell_type": "code",
   "execution_count": 13,
   "metadata": {},
   "outputs": [
    {
     "data": {
      "text/html": [
       "<div>\n",
       "<style scoped>\n",
       "    .dataframe tbody tr th:only-of-type {\n",
       "        vertical-align: middle;\n",
       "    }\n",
       "\n",
       "    .dataframe tbody tr th {\n",
       "        vertical-align: top;\n",
       "    }\n",
       "\n",
       "    .dataframe thead th {\n",
       "        text-align: right;\n",
       "    }\n",
       "</style>\n",
       "<table border=\"1\" class=\"dataframe\">\n",
       "  <thead>\n",
       "    <tr style=\"text-align: right;\">\n",
       "      <th></th>\n",
       "      <th>primary_fuel</th>\n",
       "      <th>capacity_mw</th>\n",
       "    </tr>\n",
       "  </thead>\n",
       "  <tbody>\n",
       "    <tr>\n",
       "      <th>0</th>\n",
       "      <td>Biomass</td>\n",
       "      <td>3.428130e+04</td>\n",
       "    </tr>\n",
       "    <tr>\n",
       "      <th>1</th>\n",
       "      <td>Coal</td>\n",
       "      <td>1.965541e+06</td>\n",
       "    </tr>\n",
       "    <tr>\n",
       "      <th>2</th>\n",
       "      <td>Cogeneration</td>\n",
       "      <td>4.048000e+03</td>\n",
       "    </tr>\n",
       "    <tr>\n",
       "      <th>3</th>\n",
       "      <td>Gas</td>\n",
       "      <td>1.493051e+06</td>\n",
       "    </tr>\n",
       "    <tr>\n",
       "      <th>4</th>\n",
       "      <td>Geothermal</td>\n",
       "      <td>1.268775e+04</td>\n",
       "    </tr>\n",
       "    <tr>\n",
       "      <th>5</th>\n",
       "      <td>Hydro</td>\n",
       "      <td>1.053160e+06</td>\n",
       "    </tr>\n",
       "    <tr>\n",
       "      <th>6</th>\n",
       "      <td>Nuclear</td>\n",
       "      <td>4.079118e+05</td>\n",
       "    </tr>\n",
       "    <tr>\n",
       "      <th>7</th>\n",
       "      <td>Oil</td>\n",
       "      <td>2.618787e+05</td>\n",
       "    </tr>\n",
       "    <tr>\n",
       "      <th>8</th>\n",
       "      <td>Other</td>\n",
       "      <td>3.612860e+03</td>\n",
       "    </tr>\n",
       "    <tr>\n",
       "      <th>9</th>\n",
       "      <td>Petcoke</td>\n",
       "      <td>2.424577e+03</td>\n",
       "    </tr>\n",
       "    <tr>\n",
       "      <th>10</th>\n",
       "      <td>Solar</td>\n",
       "      <td>1.883123e+05</td>\n",
       "    </tr>\n",
       "    <tr>\n",
       "      <th>11</th>\n",
       "      <td>Storage</td>\n",
       "      <td>1.712300e+03</td>\n",
       "    </tr>\n",
       "    <tr>\n",
       "      <th>12</th>\n",
       "      <td>Waste</td>\n",
       "      <td>1.474871e+04</td>\n",
       "    </tr>\n",
       "    <tr>\n",
       "      <th>13</th>\n",
       "      <td>Wave and Tidal</td>\n",
       "      <td>5.522000e+02</td>\n",
       "    </tr>\n",
       "    <tr>\n",
       "      <th>14</th>\n",
       "      <td>Wind</td>\n",
       "      <td>2.630537e+05</td>\n",
       "    </tr>\n",
       "  </tbody>\n",
       "</table>\n",
       "</div>"
      ],
      "text/plain": [
       "      primary_fuel   capacity_mw\n",
       "0          Biomass  3.428130e+04\n",
       "1             Coal  1.965541e+06\n",
       "2     Cogeneration  4.048000e+03\n",
       "3              Gas  1.493051e+06\n",
       "4       Geothermal  1.268775e+04\n",
       "5            Hydro  1.053160e+06\n",
       "6          Nuclear  4.079118e+05\n",
       "7              Oil  2.618787e+05\n",
       "8            Other  3.612860e+03\n",
       "9          Petcoke  2.424577e+03\n",
       "10           Solar  1.883123e+05\n",
       "11         Storage  1.712300e+03\n",
       "12           Waste  1.474871e+04\n",
       "13  Wave and Tidal  5.522000e+02\n",
       "14            Wind  2.630537e+05"
      ]
     },
     "execution_count": 13,
     "metadata": {},
     "output_type": "execute_result"
    }
   ],
   "source": [
    "plant_counter"
   ]
  },
  {
   "cell_type": "code",
   "execution_count": 14,
   "metadata": {},
   "outputs": [
    {
     "ename": "AttributeError",
     "evalue": "'DataFrame' object has no attribute 'country'",
     "output_type": "error",
     "traceback": [
      "\u001b[0;31m---------------------------------------------------------------------------\u001b[0m",
      "\u001b[0;31mAttributeError\u001b[0m                            Traceback (most recent call last)",
      "Cell \u001b[0;32mIn[14], line 2\u001b[0m\n\u001b[1;32m      1\u001b[0m plt\u001b[39m.\u001b[39mbar(x\u001b[39m=\u001b[39mplant_counter\u001b[39m.\u001b[39mprimary_fuel\u001b[39m.\u001b[39mvalues, \n\u001b[0;32m----> 2\u001b[0m         height\u001b[39m=\u001b[39mplant_counter\u001b[39m.\u001b[39;49mcountry\u001b[39m.\u001b[39mvalues,\n\u001b[1;32m      3\u001b[0m         )\n\u001b[1;32m      4\u001b[0m plt\u001b[39m.\u001b[39mxticks(rotation\u001b[39m=\u001b[39m\u001b[39m'\u001b[39m\u001b[39mvertical\u001b[39m\u001b[39m'\u001b[39m)\n",
      "File \u001b[0;32m~/miniconda3/envs/py38/lib/python3.8/site-packages/pandas/core/generic.py:5902\u001b[0m, in \u001b[0;36mNDFrame.__getattr__\u001b[0;34m(self, name)\u001b[0m\n\u001b[1;32m   5895\u001b[0m \u001b[39mif\u001b[39;00m (\n\u001b[1;32m   5896\u001b[0m     name \u001b[39mnot\u001b[39;00m \u001b[39min\u001b[39;00m \u001b[39mself\u001b[39m\u001b[39m.\u001b[39m_internal_names_set\n\u001b[1;32m   5897\u001b[0m     \u001b[39mand\u001b[39;00m name \u001b[39mnot\u001b[39;00m \u001b[39min\u001b[39;00m \u001b[39mself\u001b[39m\u001b[39m.\u001b[39m_metadata\n\u001b[1;32m   5898\u001b[0m     \u001b[39mand\u001b[39;00m name \u001b[39mnot\u001b[39;00m \u001b[39min\u001b[39;00m \u001b[39mself\u001b[39m\u001b[39m.\u001b[39m_accessors\n\u001b[1;32m   5899\u001b[0m     \u001b[39mand\u001b[39;00m \u001b[39mself\u001b[39m\u001b[39m.\u001b[39m_info_axis\u001b[39m.\u001b[39m_can_hold_identifiers_and_holds_name(name)\n\u001b[1;32m   5900\u001b[0m ):\n\u001b[1;32m   5901\u001b[0m     \u001b[39mreturn\u001b[39;00m \u001b[39mself\u001b[39m[name]\n\u001b[0;32m-> 5902\u001b[0m \u001b[39mreturn\u001b[39;00m \u001b[39mobject\u001b[39;49m\u001b[39m.\u001b[39;49m\u001b[39m__getattribute__\u001b[39;49m(\u001b[39mself\u001b[39;49m, name)\n",
      "\u001b[0;31mAttributeError\u001b[0m: 'DataFrame' object has no attribute 'country'"
     ]
    }
   ],
   "source": [
    "plt.bar(x=plant_counter.primary_fuel.values, \n",
    "        height=plant_counter.country.values,\n",
    "        )\n",
    "plt.xticks(rotation='vertical')"
   ]
  },
  {
   "cell_type": "code",
   "execution_count": null,
   "metadata": {},
   "outputs": [],
   "source": [
    "capacity_mw = list(data_csv.capacity_mw.values)"
   ]
  },
  {
   "cell_type": "code",
   "execution_count": 15,
   "metadata": {},
   "outputs": [
    {
     "ename": "NameError",
     "evalue": "name 'capacity_mw' is not defined",
     "output_type": "error",
     "traceback": [
      "\u001b[0;31m---------------------------------------------------------------------------\u001b[0m",
      "\u001b[0;31mNameError\u001b[0m                                 Traceback (most recent call last)",
      "Cell \u001b[0;32mIn[15], line 1\u001b[0m\n\u001b[0;32m----> 1\u001b[0m plt\u001b[39m.\u001b[39mhist(capacity_mw, \u001b[39mrange\u001b[39m\u001b[39m=\u001b[39m[\u001b[39m10\u001b[39m, \u001b[39m1000\u001b[39m])[\u001b[39m2\u001b[39m]\n",
      "\u001b[0;31mNameError\u001b[0m: name 'capacity_mw' is not defined"
     ]
    }
   ],
   "source": [
    "plt.hist(capacity_mw, range=[10, 1000])[2]"
   ]
  },
  {
   "cell_type": "code",
   "execution_count": 16,
   "metadata": {},
   "outputs": [],
   "source": [
    "mapbox_token = 'pk.eyJ1IjoibWFuaXNoc2FodTUzc2FodSIsImEiOiJjbGM2am51ZDMwd3U2M3ZwNmR6dTQ1MDVpIn0.FT-qhWiG132oOfezigPMOQ'\n",
    "px.set_mapbox_access_token(mapbox_token)"
   ]
  },
  {
   "cell_type": "code",
   "execution_count": 17,
   "metadata": {},
   "outputs": [],
   "source": [
    "\n"
   ]
  },
  {
   "cell_type": "code",
   "execution_count": 18,
   "metadata": {},
   "outputs": [
    {
     "data": {
      "text/html": [
       "<div>\n",
       "<style scoped>\n",
       "    .dataframe tbody tr th:only-of-type {\n",
       "        vertical-align: middle;\n",
       "    }\n",
       "\n",
       "    .dataframe tbody tr th {\n",
       "        vertical-align: top;\n",
       "    }\n",
       "\n",
       "    .dataframe thead th {\n",
       "        text-align: right;\n",
       "    }\n",
       "</style>\n",
       "<table border=\"1\" class=\"dataframe\">\n",
       "  <thead>\n",
       "    <tr style=\"text-align: right;\">\n",
       "      <th></th>\n",
       "      <th>centroid_lat</th>\n",
       "      <th>centroid_lon</th>\n",
       "      <th>car_hours</th>\n",
       "      <th>peak_hour</th>\n",
       "    </tr>\n",
       "  </thead>\n",
       "  <tbody>\n",
       "    <tr>\n",
       "      <th>0</th>\n",
       "      <td>45.471549</td>\n",
       "      <td>-73.588684</td>\n",
       "      <td>1772.750000</td>\n",
       "      <td>2</td>\n",
       "    </tr>\n",
       "    <tr>\n",
       "      <th>1</th>\n",
       "      <td>45.543865</td>\n",
       "      <td>-73.562456</td>\n",
       "      <td>986.333333</td>\n",
       "      <td>23</td>\n",
       "    </tr>\n",
       "  </tbody>\n",
       "</table>\n",
       "</div>"
      ],
      "text/plain": [
       "   centroid_lat  centroid_lon    car_hours  peak_hour\n",
       "0     45.471549    -73.588684  1772.750000          2\n",
       "1     45.543865    -73.562456   986.333333         23"
      ]
     },
     "execution_count": 18,
     "metadata": {},
     "output_type": "execute_result"
    }
   ],
   "source": [
    "df = px.data.carshare()\n",
    "df.head(2)"
   ]
  },
  {
   "cell_type": "code",
   "execution_count": 19,
   "metadata": {},
   "outputs": [
    {
     "data": {
      "text/html": [
       "<div>\n",
       "<style scoped>\n",
       "    .dataframe tbody tr th:only-of-type {\n",
       "        vertical-align: middle;\n",
       "    }\n",
       "\n",
       "    .dataframe tbody tr th {\n",
       "        vertical-align: top;\n",
       "    }\n",
       "\n",
       "    .dataframe thead th {\n",
       "        text-align: right;\n",
       "    }\n",
       "</style>\n",
       "<table border=\"1\" class=\"dataframe\">\n",
       "  <thead>\n",
       "    <tr style=\"text-align: right;\">\n",
       "      <th></th>\n",
       "      <th>country</th>\n",
       "      <th>country_long</th>\n",
       "      <th>name</th>\n",
       "      <th>capacity_mw</th>\n",
       "      <th>latitude</th>\n",
       "      <th>longitude</th>\n",
       "      <th>primary_fuel</th>\n",
       "      <th>capacity_mw_size</th>\n",
       "      <th>filter</th>\n",
       "    </tr>\n",
       "  </thead>\n",
       "  <tbody>\n",
       "    <tr>\n",
       "      <th>0</th>\n",
       "      <td>AFG</td>\n",
       "      <td>Afghanistan</td>\n",
       "      <td>Kajaki Hydroelectric Power Plant Afghanistan</td>\n",
       "      <td>33.0</td>\n",
       "      <td>32.322</td>\n",
       "      <td>65.119</td>\n",
       "      <td>Hydro</td>\n",
       "      <td>0.66</td>\n",
       "      <td>True</td>\n",
       "    </tr>\n",
       "    <tr>\n",
       "      <th>1</th>\n",
       "      <td>AFG</td>\n",
       "      <td>Afghanistan</td>\n",
       "      <td>Kandahar DOG</td>\n",
       "      <td>10.0</td>\n",
       "      <td>31.670</td>\n",
       "      <td>65.795</td>\n",
       "      <td>Solar</td>\n",
       "      <td>0.20</td>\n",
       "      <td>True</td>\n",
       "    </tr>\n",
       "  </tbody>\n",
       "</table>\n",
       "</div>"
      ],
      "text/plain": [
       "  country country_long                                          name  \\\n",
       "0     AFG  Afghanistan  Kajaki Hydroelectric Power Plant Afghanistan   \n",
       "1     AFG  Afghanistan                                  Kandahar DOG   \n",
       "\n",
       "   capacity_mw  latitude  longitude primary_fuel  capacity_mw_size  filter  \n",
       "0         33.0    32.322     65.119        Hydro              0.66    True  \n",
       "1         10.0    31.670     65.795        Solar              0.20    True  "
      ]
     },
     "execution_count": 19,
     "metadata": {},
     "output_type": "execute_result"
    }
   ],
   "source": [
    "data_csv.head(2)"
   ]
  },
  {
   "cell_type": "code",
   "execution_count": 27,
   "metadata": {},
   "outputs": [
    {
     "ename": "ValueError",
     "evalue": "Value of 'hover_data_1' is not the name of a column in 'data_frame'. Expected one of ['country', 'country_long', 'name', 'capacity_mw', 'latitude', 'longitude', 'primary_fuel', 'capacity_mw_size', 'filter'] but received: capacity_mw, primary_fuel",
     "output_type": "error",
     "traceback": [
      "\u001b[0;31m---------------------------------------------------------------------------\u001b[0m",
      "\u001b[0;31mValueError\u001b[0m                                Traceback (most recent call last)",
      "Cell \u001b[0;32mIn[27], line 1\u001b[0m\n\u001b[0;32m----> 1\u001b[0m fig \u001b[39m=\u001b[39m px\u001b[39m.\u001b[39;49mscatter_mapbox(data_csv, \n\u001b[1;32m      2\u001b[0m                         lat\u001b[39m=\u001b[39;49m\u001b[39m\"\u001b[39;49m\u001b[39mlatitude\u001b[39;49m\u001b[39m\"\u001b[39;49m, lon\u001b[39m=\u001b[39;49m\u001b[39m\"\u001b[39;49m\u001b[39mlongitude\u001b[39;49m\u001b[39m\"\u001b[39;49m, \n\u001b[1;32m      3\u001b[0m                         color\u001b[39m=\u001b[39;49m\u001b[39m\"\u001b[39;49m\u001b[39mprimary_fuel\u001b[39;49m\u001b[39m\"\u001b[39;49m, size\u001b[39m=\u001b[39;49m\u001b[39m\"\u001b[39;49m\u001b[39mcapacity_mw_size\u001b[39;49m\u001b[39m\"\u001b[39;49m,\n\u001b[1;32m      4\u001b[0m                         color_discrete_sequence\u001b[39m=\u001b[39;49mpx\u001b[39m.\u001b[39;49mcolors\u001b[39m.\u001b[39;49mqualitative\u001b[39m.\u001b[39;49mAlphabet,\n\u001b[1;32m      5\u001b[0m                         \u001b[39m# color_continuous_scale=px.colors.sequential.Jet, \u001b[39;49;00m\n\u001b[1;32m      6\u001b[0m                         size_max\u001b[39m=\u001b[39;49m\u001b[39m25\u001b[39;49m, zoom\u001b[39m=\u001b[39;49m\u001b[39m2\u001b[39;49m,\n\u001b[1;32m      7\u001b[0m                         mapbox_style\u001b[39m=\u001b[39;49m\u001b[39m'\u001b[39;49m\u001b[39mcarto-positron\u001b[39;49m\u001b[39m'\u001b[39;49m,\n\u001b[1;32m      8\u001b[0m                         hover_data\u001b[39m=\u001b[39;49m[\u001b[39m'\u001b[39;49m\u001b[39mname\u001b[39;49m\u001b[39m'\u001b[39;49m, \u001b[39m'\u001b[39;49m\u001b[39mcapacity_mw, primary_fuel\u001b[39;49m\u001b[39m'\u001b[39;49m])\n\u001b[1;32m      9\u001b[0m fig\u001b[39m.\u001b[39mshow()\n",
      "File \u001b[0;32m~/miniconda3/envs/py38/lib/python3.8/site-packages/plotly/express/_chart_types.py:1247\u001b[0m, in \u001b[0;36mscatter_mapbox\u001b[0;34m(data_frame, lat, lon, color, text, hover_name, hover_data, custom_data, size, animation_frame, animation_group, category_orders, labels, color_discrete_sequence, color_discrete_map, color_continuous_scale, range_color, color_continuous_midpoint, opacity, size_max, zoom, center, mapbox_style, title, template, width, height)\u001b[0m\n\u001b[1;32m   1214\u001b[0m \u001b[39mdef\u001b[39;00m \u001b[39mscatter_mapbox\u001b[39m(\n\u001b[1;32m   1215\u001b[0m     data_frame\u001b[39m=\u001b[39m\u001b[39mNone\u001b[39;00m,\n\u001b[1;32m   1216\u001b[0m     lat\u001b[39m=\u001b[39m\u001b[39mNone\u001b[39;00m,\n\u001b[0;32m   (...)\u001b[0m\n\u001b[1;32m   1241\u001b[0m     height\u001b[39m=\u001b[39m\u001b[39mNone\u001b[39;00m,\n\u001b[1;32m   1242\u001b[0m ) \u001b[39m-\u001b[39m\u001b[39m>\u001b[39m go\u001b[39m.\u001b[39mFigure:\n\u001b[1;32m   1243\u001b[0m     \u001b[39m\"\"\"\u001b[39;00m\n\u001b[1;32m   1244\u001b[0m \u001b[39m    In a Mapbox scatter plot, each row of `data_frame` is represented by a\u001b[39;00m\n\u001b[1;32m   1245\u001b[0m \u001b[39m    symbol mark on a Mapbox map.\u001b[39;00m\n\u001b[1;32m   1246\u001b[0m \u001b[39m    \"\"\"\u001b[39;00m\n\u001b[0;32m-> 1247\u001b[0m     \u001b[39mreturn\u001b[39;00m make_figure(args\u001b[39m=\u001b[39;49m\u001b[39mlocals\u001b[39;49m(), constructor\u001b[39m=\u001b[39;49mgo\u001b[39m.\u001b[39;49mScattermapbox)\n",
      "File \u001b[0;32m~/miniconda3/envs/py38/lib/python3.8/site-packages/plotly/express/_core.py:1990\u001b[0m, in \u001b[0;36mmake_figure\u001b[0;34m(args, constructor, trace_patch, layout_patch)\u001b[0m\n\u001b[1;32m   1987\u001b[0m layout_patch \u001b[39m=\u001b[39m layout_patch \u001b[39mor\u001b[39;00m {}\n\u001b[1;32m   1988\u001b[0m apply_default_cascade(args)\n\u001b[0;32m-> 1990\u001b[0m args \u001b[39m=\u001b[39m build_dataframe(args, constructor)\n\u001b[1;32m   1991\u001b[0m \u001b[39mif\u001b[39;00m constructor \u001b[39min\u001b[39;00m [go\u001b[39m.\u001b[39mTreemap, go\u001b[39m.\u001b[39mSunburst, go\u001b[39m.\u001b[39mIcicle] \u001b[39mand\u001b[39;00m args[\u001b[39m\"\u001b[39m\u001b[39mpath\u001b[39m\u001b[39m\"\u001b[39m] \u001b[39mis\u001b[39;00m \u001b[39mnot\u001b[39;00m \u001b[39mNone\u001b[39;00m:\n\u001b[1;32m   1992\u001b[0m     args \u001b[39m=\u001b[39m process_dataframe_hierarchy(args)\n",
      "File \u001b[0;32m~/miniconda3/envs/py38/lib/python3.8/site-packages/plotly/express/_core.py:1405\u001b[0m, in \u001b[0;36mbuild_dataframe\u001b[0;34m(args, constructor)\u001b[0m\n\u001b[1;32m   1402\u001b[0m     args[\u001b[39m\"\u001b[39m\u001b[39mcolor\u001b[39m\u001b[39m\"\u001b[39m] \u001b[39m=\u001b[39m \u001b[39mNone\u001b[39;00m\n\u001b[1;32m   1403\u001b[0m \u001b[39m# now that things have been prepped, we do the systematic rewriting of `args`\u001b[39;00m\n\u001b[0;32m-> 1405\u001b[0m df_output, wide_id_vars \u001b[39m=\u001b[39m process_args_into_dataframe(\n\u001b[1;32m   1406\u001b[0m     args, wide_mode, var_name, value_name\n\u001b[1;32m   1407\u001b[0m )\n\u001b[1;32m   1409\u001b[0m \u001b[39m# now that `df_output` exists and `args` contains only references, we complete\u001b[39;00m\n\u001b[1;32m   1410\u001b[0m \u001b[39m# the special-case and wide-mode handling by further rewriting args and/or mutating\u001b[39;00m\n\u001b[1;32m   1411\u001b[0m \u001b[39m# df_output\u001b[39;00m\n\u001b[1;32m   1413\u001b[0m count_name \u001b[39m=\u001b[39m _escape_col_name(df_output, \u001b[39m\"\u001b[39m\u001b[39mcount\u001b[39m\u001b[39m\"\u001b[39m, [var_name, value_name])\n",
      "File \u001b[0;32m~/miniconda3/envs/py38/lib/python3.8/site-packages/plotly/express/_core.py:1207\u001b[0m, in \u001b[0;36mprocess_args_into_dataframe\u001b[0;34m(args, wide_mode, var_name, value_name)\u001b[0m\n\u001b[1;32m   1205\u001b[0m         \u001b[39mif\u001b[39;00m argument \u001b[39m==\u001b[39m \u001b[39m\"\u001b[39m\u001b[39mindex\u001b[39m\u001b[39m\"\u001b[39m:\n\u001b[1;32m   1206\u001b[0m             err_msg \u001b[39m+\u001b[39m\u001b[39m=\u001b[39m \u001b[39m\"\u001b[39m\u001b[39m\\n\u001b[39;00m\u001b[39m To use the index, pass it in directly as `df.index`.\u001b[39m\u001b[39m\"\u001b[39m\n\u001b[0;32m-> 1207\u001b[0m         \u001b[39mraise\u001b[39;00m \u001b[39mValueError\u001b[39;00m(err_msg)\n\u001b[1;32m   1208\u001b[0m \u001b[39melif\u001b[39;00m length \u001b[39mand\u001b[39;00m \u001b[39mlen\u001b[39m(df_input[argument]) \u001b[39m!=\u001b[39m length:\n\u001b[1;32m   1209\u001b[0m     \u001b[39mraise\u001b[39;00m \u001b[39mValueError\u001b[39;00m(\n\u001b[1;32m   1210\u001b[0m         \u001b[39m\"\u001b[39m\u001b[39mAll arguments should have the same length. \u001b[39m\u001b[39m\"\u001b[39m\n\u001b[1;32m   1211\u001b[0m         \u001b[39m\"\u001b[39m\u001b[39mThe length of column argument `df[\u001b[39m\u001b[39m%s\u001b[39;00m\u001b[39m]` is \u001b[39m\u001b[39m%d\u001b[39;00m\u001b[39m, whereas the \u001b[39m\u001b[39m\"\u001b[39m\n\u001b[0;32m   (...)\u001b[0m\n\u001b[1;32m   1218\u001b[0m         )\n\u001b[1;32m   1219\u001b[0m     )\n",
      "\u001b[0;31mValueError\u001b[0m: Value of 'hover_data_1' is not the name of a column in 'data_frame'. Expected one of ['country', 'country_long', 'name', 'capacity_mw', 'latitude', 'longitude', 'primary_fuel', 'capacity_mw_size', 'filter'] but received: capacity_mw, primary_fuel"
     ]
    }
   ],
   "source": [
    "fig = px.scatter_mapbox(data_csv, \n",
    "                        lat=\"latitude\", lon=\"longitude\", \n",
    "                        color=\"primary_fuel\", size=\"capacity_mw_size\",\n",
    "                        color_discrete_sequence=px.colors.qualitative.Alphabet,\n",
    "                        # color_continuous_scale=px.colors.sequential.Jet, \n",
    "                        size_max=25, zoom=2,\n",
    "                        mapbox_style='carto-positron',\n",
    "                        hover_data=['name', 'capacity_mw', 'primary_fuel'])\n",
    "fig.show()"
   ]
  },
  {
   "cell_type": "code",
   "execution_count": 21,
   "metadata": {},
   "outputs": [
    {
     "data": {
      "application/vnd.plotly.v1+json": {
       "config": {
        "plotlyServerURL": "https://plot.ly"
       },
       "data": [
        {
         "hovertemplate": "car_hours=%{marker.size}<br>centroid_lat=%{lat}<br>centroid_lon=%{lon}<br>peak_hour=%{marker.color}<extra></extra>",
         "lat": [
          45.471548505146174,
          45.54386506674422,
          45.4876395818664,
          45.52286967122903,
          45.45397130964701,
          45.57312570194822,
          45.53005389171565,
          45.49919320522112,
          45.551300651627535,
          45.55380992033989,
          45.47448282698679,
          45.53249580289159,
          45.56545642757568,
          45.50298109284952,
          45.56711856838078,
          45.480026123563874,
          45.448903185047335,
          45.50303089895005,
          45.609667861846745,
          45.478348275451104,
          45.51951352944332,
          45.56903061932889,
          45.53626021131554,
          45.56857291481607,
          45.54614539811951,
          45.54488834188077,
          45.54515565293561,
          45.47817195218011,
          45.58212955989256,
          45.531215706332375,
          45.55267826328372,
          45.52915993898732,
          45.52404418524071,
          45.50851711032711,
          45.4880586878363,
          45.50689566111847,
          45.57894266654677,
          45.46892041666329,
          45.5386616499238,
          45.58530574012526,
          45.46252493114867,
          45.50814302347108,
          45.55224218643183,
          45.53306824136229,
          45.529617524254725,
          45.56172666348032,
          45.45886520703704,
          45.51827128926588,
          45.46330588193452,
          45.45722580199571,
          45.58042126024095,
          45.51220156451264,
          45.548176804195634,
          45.52792120774532,
          45.58971117459708,
          45.53066298367023,
          45.49780367877612,
          45.53978904565592,
          45.52977286764973,
          45.57635821927521,
          45.592896967066345,
          45.54282395560971,
          45.45146052808264,
          45.50017958704209,
          45.55959836008312,
          45.51405331206955,
          45.52098513669111,
          45.51969025678738,
          45.47196677288637,
          45.4940320553664,
          45.57383095629989,
          45.47270552917877,
          45.58204625444414,
          45.4810627259832,
          45.60751580853944,
          45.50429652950133,
          45.459862270272,
          45.550869209779385,
          45.52515960693799,
          45.50743686739271,
          45.54836167081622,
          45.53036120501041,
          45.49339463589723,
          45.49643413195211,
          45.561211827035706,
          45.55537527937125,
          45.52524090241434,
          45.542945623835706,
          45.465546068371886,
          45.51646059071524,
          45.53280566796844,
          45.47963265657448,
          45.45591463685107,
          45.54630844232351,
          45.49848094816177,
          45.528525372523454,
          45.56579154043406,
          45.53765718184978,
          45.47455332862991,
          45.5279051561684,
          45.494951534596034,
          45.465088224907866,
          45.59654571636812,
          45.491523525524194,
          45.51792291961748,
          45.46777843101408,
          45.51117458455963,
          45.54915899878871,
          45.535767560039695,
          45.49044848119951,
          45.538238804018775,
          45.5277041052173,
          45.534777091929946,
          45.48934750923581,
          45.45408718820735,
          45.472649739508654,
          45.55659444198,
          45.483089972430825,
          45.49619305656642,
          45.55742769063361,
          45.49971820106133,
          45.48523078626532,
          45.45863614550253,
          45.50110763484297,
          45.50643446059914,
          45.52764608144713,
          45.48910798882796,
          45.52543292800497,
          45.60326418430284,
          45.47822467091599,
          45.56923339719061,
          45.46715978062781,
          45.543842954244646,
          45.47954227936379,
          45.47510964560248,
          45.54858377217711,
          45.54415239549018,
          45.61087892678886,
          45.481028563111394,
          45.52753294236388,
          45.50713730344406,
          45.54445300313406,
          45.53978806387313,
          45.53344000001958,
          45.46746637549487,
          45.53453717264379,
          45.53658915333014,
          45.53429759356232,
          45.52410832338415,
          45.47265626277289,
          45.50559257327809,
          45.51901074555018,
          45.52540175130616,
          45.54048050327387,
          45.48335540200465,
          45.54220224528534,
          45.519876273318,
          45.55095552442233,
          45.51670639951611,
          45.53834507417609,
          45.54348593525155,
          45.49933518159919,
          45.57484789346844,
          45.47790745068288,
          45.54237585056225,
          45.46417997825538,
          45.48897149612501,
          45.570596118677166,
          45.549545481512375,
          45.56161463008111,
          45.48012052331579,
          45.546769706786165,
          45.47728503507936,
          45.582073874173176,
          45.53903174724877,
          45.510890621674776,
          45.51923221924688,
          45.55028382655888,
          45.554677131421606,
          45.509217063208105,
          45.54493929194947,
          45.55102553790574,
          45.46427660479596,
          45.53566818785226,
          45.5222319477743,
          45.53831624591015,
          45.47689750165655,
          45.55427699436827,
          45.54393996853523,
          45.54733066622103,
          45.53172990090744,
          45.52405372692176,
          45.52567648569128,
          45.45566288220533,
          45.514928037931,
          45.52875593668882,
          45.45893633874722,
          45.52339721689325,
          45.53380644488978,
          45.51698913885445,
          45.47417720458765,
          45.52430638232658,
          45.57221159337733,
          45.53143218128847,
          45.52029302323953,
          45.5428521988577,
          45.51177396205147,
          45.476699804159765,
          45.52527451544683,
          45.52904526725249,
          45.54589006890641,
          45.54129653265394,
          45.52641793678303,
          45.506014494884326,
          45.56249120965429,
          45.518606229301774,
          45.52203370353778,
          45.52409679671165,
          45.52247779646763,
          45.53961066076051,
          45.58895991968114,
          45.54559560319731,
          45.537473700456566,
          45.57342046906779,
          45.53557355419221,
          45.50192689559106,
          45.55114485440528,
          45.53782697365083,
          45.52940323053624,
          45.55301895367002,
          45.55058908283418,
          45.49619083697144,
          45.5389132118943,
          45.535798184139765,
          45.5313114537718,
          45.52036705536745,
          45.48313978581276,
          45.55297824741078,
          45.55430120710761,
          45.57092278674684,
          45.53361097030694,
          45.52227967073674,
          45.57044282123756,
          45.48626024282493,
          45.54717058947268,
          45.546481863801525,
          45.495523127814025,
          45.52119924708915,
          45.53256430507208
         ],
         "legendgroup": "",
         "lon": [
          -73.58868408217266,
          -73.56245583980697,
          -73.64276703077329,
          -73.5956772508181,
          -73.73894559925054,
          -73.53990236454271,
          -73.62803605045727,
          -73.56194373919256,
          -73.61171191446698,
          -73.57720679008477,
          -73.63054396371925,
          -73.57956985159979,
          -73.64201176723445,
          -73.62748995674825,
          -73.58439300639695,
          -73.58239204679343,
          -73.59297686556374,
          -73.5790295367978,
          -73.54023161013792,
          -73.57856784133362,
          -73.5793289407554,
          -73.52573081459546,
          -73.56209061086564,
          -73.56084340953332,
          -73.59114755541647,
          -73.63562160484223,
          -73.6172218179539,
          -73.56778840803071,
          -73.5214125066963,
          -73.60636943656155,
          -73.60186065688765,
          -73.61182738988052,
          -73.57255202228934,
          -73.56361361279802,
          -73.62175707085048,
          -73.63992985736493,
          -73.5722622021108,
          -73.61587858172172,
          -73.65684895574016,
          -73.556671023514,
          -73.591450603879,
          -73.61443790111136,
          -73.5567248443471,
          -73.58586652140238,
          -73.59016001500189,
          -73.61316030479036,
          -73.65393428057348,
          -73.53518132112849,
          -73.63201646596775,
          -73.6471457252509,
          -73.62450277147559,
          -73.62439363857663,
          -73.57230388575367,
          -73.61477370856916,
          -73.5124596370787,
          -73.61566624177722,
          -73.64552238789666,
          -73.5647843753964,
          -73.57271916651166,
          -73.55658769397526,
          -73.56283021327646,
          -73.53978288809766,
          -73.60077524293251,
          -73.57356239315693,
          -73.53735411019554,
          -73.6328226471968,
          -73.5859649617064,
          -73.56818790168714,
          -73.645100544613,
          -73.61062703452248,
          -73.60414320228709,
          -73.60760805947412,
          -73.5329739761722,
          -73.56087334817683,
          -73.51375636627016,
          -73.56520883274013,
          -73.58285531458276,
          -73.617846092248,
          -73.6047044738415,
          -73.57429268607511,
          -73.58539717879967,
          -73.62029730985503,
          -73.62504495384513,
          -73.55267239661161,
          -73.5902004112542,
          -73.56930840912791,
          -73.59981458158266,
          -73.62128455035952,
          -73.62067736676947,
          -73.55492741665876,
          -73.64048496482262,
          -73.62987341664497,
          -73.63946019785875,
          -73.60685622581383,
          -73.61967423595867,
          -73.60153035519421,
          -73.59801021780002,
          -73.58232714569509,
          -73.637521859517,
          -73.5845589383217,
          -73.55953118048146,
          -73.65258509641737,
          -73.52593434063824,
          -73.63722045431894,
          -73.58980729398637,
          -73.63595141045859,
          -73.57114931189177,
          -73.63292319176229,
          -73.59674218487977,
          -73.64754965162766,
          -73.60597173479003,
          -73.57565350409223,
          -73.5728803879145,
          -73.57095543068031,
          -73.5871111898369,
          -73.5826189686433,
          -73.53214371066534,
          -73.63467979451553,
          -73.58337891052282,
          -73.60077343846366,
          -73.6544874970073,
          -73.61782510513464,
          -73.64348260405826,
          -73.63443884623427,
          -73.55280978474548,
          -73.59350797166334,
          -73.6314622358004,
          -73.62642522019199,
          -73.53716899543986,
          -73.6131691288042,
          -73.56970219899235,
          -73.64277864672295,
          -73.58224236729227,
          -73.54759113967883,
          -73.56317906950511,
          -73.57887887297544,
          -73.59658041602985,
          -73.53187026901544,
          -73.62384266869233,
          -73.58132388945315,
          -73.63043341873463,
          -73.54776346337367,
          -73.54278601036688,
          -73.5547199999811,
          -73.59078190259488,
          -73.59256240577943,
          -73.62157941242943,
          -73.61041764596348,
          -73.58731842223665,
          -73.62370107695057,
          -73.62277637402323,
          -73.57542843260613,
          -73.61022133725439,
          -73.63688048862373,
          -73.58250497434213,
          -73.61142929406647,
          -73.5829101943345,
          -73.59145464281357,
          -73.57855556771429,
          -73.57053862449274,
          -73.57027313720633,
          -73.62608825396849,
          -73.5635392336782,
          -73.62640937405116,
          -73.55538289355314,
          -73.62592082119164,
          -73.62783793313959,
          -73.52828137402979,
          -73.56715045890071,
          -73.57406730167698,
          -73.57250207253963,
          -73.53904284095108,
          -73.58122340486779,
          -73.54826893987729,
          -73.60093377104955,
          -73.57633721593862,
          -73.57244658989525,
          -73.60783357287939,
          -73.54632265433347,
          -73.61862500763353,
          -73.62750959017946,
          -73.56330138226609,
          -73.64748824071867,
          -73.56861361257508,
          -73.60012669507964,
          -73.57466650421921,
          -73.58830635134413,
          -73.62166601126063,
          -73.57394431922157,
          -73.60149624886525,
          -73.5764851307457,
          -73.5653588020603,
          -73.59003684764208,
          -73.64576984962405,
          -73.5716441021712,
          -73.57904510571099,
          -73.59639171903568,
          -73.60671288562885,
          -73.58376257412169,
          -73.58364027226557,
          -73.59403776813,
          -73.58198744370928,
          -73.54796924219626,
          -73.56470160854694,
          -73.59161297526235,
          -73.60552201275355,
          -73.63749469512531,
          -73.61960578900425,
          -73.5938625905676,
          -73.56435515803537,
          -73.613329142374,
          -73.58761174867594,
          -73.59653658066382,
          -73.62601031881215,
          -73.58319715388312,
          -73.59475241426874,
          -73.57113021855815,
          -73.57841797764475,
          -73.57478446870938,
          -73.62661841692122,
          -73.53758992480975,
          -73.5672399814485,
          -73.57729937169172,
          -73.6327727768197,
          -73.57917172211978,
          -73.62989603799815,
          -73.53770269990456,
          -73.61519170037559,
          -73.58716197505838,
          -73.58388794985183,
          -73.57424335824136,
          -73.62436735080055,
          -73.5792013969,
          -73.58664104188827,
          -73.58372215024325,
          -73.59761235604635,
          -73.57653648384526,
          -73.59484359129024,
          -73.56162491267922,
          -73.57715490720366,
          -73.60106645724453,
          -73.5684337774366,
          -73.52518192920604,
          -73.63860168141315,
          -73.55625786283633,
          -73.5749389146122,
          -73.62772501663683,
          -73.581789228748,
          -73.5675347056023
         ],
         "marker": {
          "color": [
           2,
           23,
           20,
           23,
           19,
           1,
           18,
           14,
           2,
           1,
           2,
           3,
           21,
           11,
           1,
           5,
           6,
           15,
           0,
           14,
           2,
           23,
           3,
           20,
           3,
           2,
           5,
           3,
           9,
           5,
           10,
           11,
           3,
           13,
           20,
           13,
           9,
           4,
           11,
           17,
           1,
           16,
           10,
           19,
           5,
           10,
           16,
           20,
           2,
           20,
           8,
           3,
           2,
           12,
           1,
           21,
           20,
           7,
           3,
           19,
           7,
           0,
           19,
           11,
           23,
           0,
           1,
           21,
           20,
           5,
           0,
           11,
           20,
           9,
           0,
           13,
           4,
           3,
           3,
           13,
           4,
           11,
           20,
           13,
           19,
           2,
           13,
           4,
           23,
           15,
           9,
           4,
           3,
           8,
           11,
           11,
           5,
           2,
           1,
           2,
           16,
           18,
           0,
           18,
           4,
           4,
           12,
           7,
           4,
           2,
           3,
           2,
           2,
           12,
           4,
           1,
           5,
           10,
           15,
           21,
           20,
           0,
           23,
           12,
           14,
           13,
           4,
           20,
           19,
           2,
           20,
           6,
           9,
           12,
           4,
           2,
           3,
           20,
           6,
           3,
           4,
           5,
           6,
           5,
           21,
           5,
           18,
           5,
           2,
           20,
           12,
           1,
           4,
           21,
           16,
           7,
           3,
           5,
           16,
           1,
           2,
           2,
           9,
           4,
           5,
           5,
           5,
           0,
           2,
           2,
           14,
           3,
           10,
           21,
           2,
           15,
           21,
           3,
           4,
           5,
           3,
           2,
           4,
           3,
           3,
           3,
           2,
           17,
           2,
           5,
           1,
           22,
           0,
           19,
           11,
           2,
           1,
           21,
           1,
           22,
           4,
           10,
           20,
           2,
           2,
           3,
           20,
           12,
           11,
           2,
           3,
           3,
           12,
           8,
           3,
           20,
           3,
           15,
           20,
           3,
           20,
           1,
           5,
           0,
           2,
           5,
           3,
           5,
           18,
           8,
           1,
           13,
           2,
           2,
           3,
           0,
           23,
           5,
           2,
           10,
           11,
           21,
           7,
           18,
           3,
           2,
           8,
           17,
           5
          ],
          "coloraxis": "coloraxis",
          "size": [
           1772.7499999995052,
           986.3333333335024,
           354.74999999998914,
           560.166666666642,
           2836.666666667356,
           1022.7500000001857,
           835.7500000001006,
           1888.3333333327332,
           1030.75000000018,
           1841.1666666661097,
           1966.166666665996,
           1532.9999999997233,
           834.1666666667666,
           289.0000000000041,
           273.58333333334093,
           594.8333333333244,
           1020.9166666668516,
           1428.4999999998183,
           670.7500000000256,
           489.4999999999585,
           1426.3333333331536,
           422.49999999997374,
           1624.7499999996398,
           732.7500000000538,
           1969.6666666659928,
           1657.9999999996096,
           665.5833333333566,
           805.08333333342,
           217.75000000000728,
           1332.583333333239,
           630.5000000000073,
           559.9999999999752,
           456.1666666666328,
           1185.8333333333724,
           1112.6666666667722,
           1016.5833333335162,
           1367.249999999874,
           1767.9999999995096,
           2291.9999999996985,
           552.8333333333053,
           1397.9166666665128,
           997.7500000001744,
           926.1666666668084,
           323.166666666663,
           833.0833333334327,
           1394.416666666516,
           601.7499999999942,
           1724.4999999995491,
           1061.5833333334854,
           325.74999999999574,
           1271.5833333332944,
           1951.0833333326764,
           961.4166666668244,
           507.83333333328767,
           679.6666666666963,
           734.833333333388,
           1057.4166666668225,
           262.8333333333434,
           1302.7499999999327,
           345.8333333333245,
           1543.3333333330472,
           630.7500000000074,
           1164.5833333333917,
           1676.9999999995923,
           1282.5833333332844,
           1019.000000000184,
           1719.1666666662206,
           681.5000000000305,
           287.66666666667106,
           1559.333333333033,
           627.4166666666725,
           1863.7499999994225,
           867.2500000001149,
           2413.4999999999195,
           1322.3333333332482,
           3274.0000000014848,
           1558.9166666663664,
           1902.416666666054,
           1609.166666666321,
           2773.250000000574,
           1940.6666666660192,
           1597.4999999996646,
           162.500000000001,
           1929.0833333326964,
           847.0000000001057,
           1522.7499999997326,
           635.3333333333428,
           2057.166666665938,
           845.9166666667719,
           2022.9166666659444,
           1598.7499999996635,
           566.8333333333117,
           1714.1666666662252,
           680.50000000003,
           1043.2500000001687,
           673.3333333333601,
           1105.750000000112,
           1382.9999999998597,
           531.4999999999623,
           635.0000000000093,
           2376.833333333186,
           462.4166666666313,
           1315.6666666665876,
           504.4166666666218,
           741.2500000000576,
           867.3333333334483,
           875.5833333334521,
           2188.1666666661763,
           1172.8333333333842,
           332.4999999999942,
           1351.749999999888,
           966.25000000016,
           981.750000000167,
           1714.3333333328917,
           813.833333333424,
           863.7500000001133,
           1202.1666666666908,
           665.0833333333563,
           2433.83333333329,
           1189.0000000000362,
           2298.583333333044,
           1414.9166666664971,
           476.4999999999615,
           766.3333333334024,
           2338.249999999782,
           1170.500000000053,
           716.0000000000462,
           1228.083333333334,
           511.8333333332868,
           1357.3333333332164,
           1144.0833333334103,
           292.5000000000033,
           1069.0833333334783,
           1552.333333333039,
           1029.9166666668475,
           2752.83333333387,
           2077.1666666659744,
           1167.8333333333887,
           658.2500000000199,
           741.7500000000579,
           520.4166666666239,
           2127.4999999993997,
           1093.2500000001232,
           1590.4166666663375,
           696.4166666667039,
           1286.8333333332805,
           1489.1666666664298,
           1796.91666666615,
           1298.2499999999368,
           921.583333333473,
           605.5833333333293,
           1245.1666666666515,
           1261.9166666666365,
           1705.4999999995664,
           1363.999999999877,
           790.9166666667469,
           1067.7500000001464,
           1320.4999999999166,
           1317.416666666586,
           1404.3333333331736,
           648.6666666666822,
           309.7499999999994,
           484.9999999999595,
           439.3333333333032,
           814.1666666667575,
           1264.4166666666342,
           655.583333333352,
           342.66666666665856,
           626.5000000000055,
           1059.9166666668202,
           321.66666666666333,
           676.4166666666948,
           201.9166666666721,
           1223.916666666671,
           1687.4166666662495,
           1112.583333333439,
           466.7499999999637,
           785.0833333334109,
           1800.833333332813,
           1364.5833333332098,
           2299.7499999997126,
           1038.7500000001728,
           722.8333333333826,
           1706.999999999565,
           1231.7499999999973,
           967.833333333494,
           1386.5833333331898,
           192.41666666667103,
           291.3333333333369,
           1370.9166666665374,
           605.4999999999959,
           194.08333333333792,
           538.7499999999656,
           33.24999999999985,
           1792.749999999487,
           737.0833333333891,
           1153.7500000000682,
           886.0000000001235,
           955.6666666668218,
           1071.2500000001432,
           748.2500000000608,
           1487.8333333330977,
           835.7500000001006,
           889.0000000001248,
           1337.4166666665678,
           1137.3333333334165,
           966.25000000016,
           1034.0000000001771,
           1499.6666666664205,
           503.58333333328864,
           894.9166666667942,
           1749.4166666661931,
           1879.749999999408,
           635.1666666666761,
           777.0833333334073,
           1202.9166666666902,
           560.4999999999754,
           790.3333333334133,
           797.5833333334166,
           1156.5000000000657,
           1462.9166666664537,
           1168.0833333333885,
           456.24999999996606,
           1019.7500000001844,
           1167.166666666723,
           478.0833333332944,
           1599.7499999996626,
           1578.0833333330156,
           494.49999999995737,
           1705.1666666662334,
           947.6666666668182,
           114.49999999999784,
           759.4166666667326,
           1567.6666666663584,
           547.9999999999698,
           978.3333333334988,
           673.08333333336,
           1354.666666666552,
           1355.1666666665517,
           898.0000000001289,
           701.6666666667063,
           873.1666666667843,
           235.41666666667595,
           998.6666666668414,
           951.41666666682,
           795.4166666667489,
           425.749999999973,
           1044.8333333335006,
           694.9166666667032
          ],
          "sizemode": "area",
          "sizeref": 14.55111111111771
         },
         "mode": "markers",
         "name": "",
         "showlegend": false,
         "subplot": "mapbox",
         "type": "scattermapbox"
        }
       ],
       "layout": {
        "coloraxis": {
         "colorbar": {
          "title": {
           "text": "peak_hour"
          }
         },
         "colorscale": [
          [
           0,
           "#000000"
          ],
          [
           0.0625,
           "#001f4d"
          ],
          [
           0.125,
           "#003786"
          ],
          [
           0.1875,
           "#0e58a8"
          ],
          [
           0.25,
           "#217eb8"
          ],
          [
           0.3125,
           "#30a4ca"
          ],
          [
           0.375,
           "#54c8df"
          ],
          [
           0.4375,
           "#9be4ef"
          ],
          [
           0.5,
           "#e1e9d1"
          ],
          [
           0.5625,
           "#f3d573"
          ],
          [
           0.625,
           "#e7b000"
          ],
          [
           0.6875,
           "#da8200"
          ],
          [
           0.75,
           "#c65400"
          ],
          [
           0.8125,
           "#ac2301"
          ],
          [
           0.875,
           "#820000"
          ],
          [
           0.9375,
           "#4c0000"
          ],
          [
           1,
           "#000000"
          ]
         ]
        },
        "legend": {
         "itemsizing": "constant",
         "tracegroupgap": 0
        },
        "mapbox": {
         "accesstoken": "pk.eyJ1IjoibWFuaXNoc2FodTUzc2FodSIsImEiOiJjbGM2am51ZDMwd3U2M3ZwNmR6dTQ1MDVpIn0.FT-qhWiG132oOfezigPMOQ",
         "center": {
          "lat": 45.523416683439955,
          "lon": -73.59183434290806
         },
         "domain": {
          "x": [
           0,
           1
          ],
          "y": [
           0,
           1
          ]
         },
         "zoom": 10
        },
        "margin": {
         "t": 60
        },
        "template": {
         "data": {
          "candlestick": [
           {
            "decreasing": {
             "line": {
              "color": "#000033"
             }
            },
            "increasing": {
             "line": {
              "color": "#000032"
             }
            },
            "type": "candlestick"
           }
          ],
          "contour": [
           {
            "colorscale": [
             [
              0,
              "#000011"
             ],
             [
              0.1111111111111111,
              "#000012"
             ],
             [
              0.2222222222222222,
              "#000013"
             ],
             [
              0.3333333333333333,
              "#000014"
             ],
             [
              0.4444444444444444,
              "#000015"
             ],
             [
              0.5555555555555556,
              "#000016"
             ],
             [
              0.6666666666666666,
              "#000017"
             ],
             [
              0.7777777777777778,
              "#000018"
             ],
             [
              0.8888888888888888,
              "#000019"
             ],
             [
              1,
              "#000020"
             ]
            ],
            "type": "contour"
           }
          ],
          "contourcarpet": [
           {
            "colorscale": [
             [
              0,
              "#000011"
             ],
             [
              0.1111111111111111,
              "#000012"
             ],
             [
              0.2222222222222222,
              "#000013"
             ],
             [
              0.3333333333333333,
              "#000014"
             ],
             [
              0.4444444444444444,
              "#000015"
             ],
             [
              0.5555555555555556,
              "#000016"
             ],
             [
              0.6666666666666666,
              "#000017"
             ],
             [
              0.7777777777777778,
              "#000018"
             ],
             [
              0.8888888888888888,
              "#000019"
             ],
             [
              1,
              "#000020"
             ]
            ],
            "type": "contourcarpet"
           }
          ],
          "heatmap": [
           {
            "colorscale": [
             [
              0,
              "#000011"
             ],
             [
              0.1111111111111111,
              "#000012"
             ],
             [
              0.2222222222222222,
              "#000013"
             ],
             [
              0.3333333333333333,
              "#000014"
             ],
             [
              0.4444444444444444,
              "#000015"
             ],
             [
              0.5555555555555556,
              "#000016"
             ],
             [
              0.6666666666666666,
              "#000017"
             ],
             [
              0.7777777777777778,
              "#000018"
             ],
             [
              0.8888888888888888,
              "#000019"
             ],
             [
              1,
              "#000020"
             ]
            ],
            "type": "heatmap"
           }
          ],
          "histogram2d": [
           {
            "colorscale": [
             [
              0,
              "#000011"
             ],
             [
              0.1111111111111111,
              "#000012"
             ],
             [
              0.2222222222222222,
              "#000013"
             ],
             [
              0.3333333333333333,
              "#000014"
             ],
             [
              0.4444444444444444,
              "#000015"
             ],
             [
              0.5555555555555556,
              "#000016"
             ],
             [
              0.6666666666666666,
              "#000017"
             ],
             [
              0.7777777777777778,
              "#000018"
             ],
             [
              0.8888888888888888,
              "#000019"
             ],
             [
              1,
              "#000020"
             ]
            ],
            "type": "histogram2d"
           }
          ],
          "icicle": [
           {
            "textfont": {
             "color": "white"
            },
            "type": "icicle"
           }
          ],
          "sankey": [
           {
            "textfont": {
             "color": "#000036"
            },
            "type": "sankey"
           }
          ],
          "scatter": [
           {
            "marker": {
             "line": {
              "width": 0
             }
            },
            "type": "scatter"
           }
          ],
          "table": [
           {
            "cells": {
             "fill": {
              "color": "#000038"
             },
             "font": {
              "color": "#000037"
             },
             "line": {
              "color": "#000039"
             }
            },
            "header": {
             "fill": {
              "color": "#000040"
             },
             "font": {
              "color": "#000036"
             },
             "line": {
              "color": "#000039"
             }
            },
            "type": "table"
           }
          ],
          "waterfall": [
           {
            "connector": {
             "line": {
              "color": "#000036",
              "width": 2
             }
            },
            "decreasing": {
             "marker": {
              "color": "#000033"
             }
            },
            "increasing": {
             "marker": {
              "color": "#000032"
             }
            },
            "totals": {
             "marker": {
              "color": "#000034"
             }
            },
            "type": "waterfall"
           }
          ]
         },
         "layout": {
          "coloraxis": {
           "colorscale": [
            [
             0,
             "#000011"
            ],
            [
             0.1111111111111111,
             "#000012"
            ],
            [
             0.2222222222222222,
             "#000013"
            ],
            [
             0.3333333333333333,
             "#000014"
            ],
            [
             0.4444444444444444,
             "#000015"
            ],
            [
             0.5555555555555556,
             "#000016"
            ],
            [
             0.6666666666666666,
             "#000017"
            ],
            [
             0.7777777777777778,
             "#000018"
            ],
            [
             0.8888888888888888,
             "#000019"
            ],
            [
             1,
             "#000020"
            ]
           ]
          },
          "colorscale": {
           "diverging": [
            [
             0,
             "#000021"
            ],
            [
             0.1,
             "#000022"
            ],
            [
             0.2,
             "#000023"
            ],
            [
             0.3,
             "#000024"
            ],
            [
             0.4,
             "#000025"
            ],
            [
             0.5,
             "#000026"
            ],
            [
             0.6,
             "#000027"
            ],
            [
             0.7,
             "#000028"
            ],
            [
             0.8,
             "#000029"
            ],
            [
             0.9,
             "#000030"
            ],
            [
             1,
             "#000031"
            ]
           ],
           "sequential": [
            [
             0,
             "#000011"
            ],
            [
             0.1111111111111111,
             "#000012"
            ],
            [
             0.2222222222222222,
             "#000013"
            ],
            [
             0.3333333333333333,
             "#000014"
            ],
            [
             0.4444444444444444,
             "#000015"
            ],
            [
             0.5555555555555556,
             "#000016"
            ],
            [
             0.6666666666666666,
             "#000017"
            ],
            [
             0.7777777777777778,
             "#000018"
            ],
            [
             0.8888888888888888,
             "#000019"
            ],
            [
             1,
             "#000020"
            ]
           ],
           "sequentialminus": [
            [
             0,
             "#000011"
            ],
            [
             0.1111111111111111,
             "#000012"
            ],
            [
             0.2222222222222222,
             "#000013"
            ],
            [
             0.3333333333333333,
             "#000014"
            ],
            [
             0.4444444444444444,
             "#000015"
            ],
            [
             0.5555555555555556,
             "#000016"
            ],
            [
             0.6666666666666666,
             "#000017"
            ],
            [
             0.7777777777777778,
             "#000018"
            ],
            [
             0.8888888888888888,
             "#000019"
            ],
            [
             1,
             "#000020"
            ]
           ]
          },
          "colorway": [
           "#000001",
           "#000002",
           "#000003",
           "#000004",
           "#000005",
           "#000006",
           "#000007",
           "#000008",
           "#000009",
           "#000010"
          ]
         }
        }
       }
      }
     },
     "metadata": {},
     "output_type": "display_data"
    }
   ],
   "source": [
    "fig = px.scatter_mapbox(df, lat=\"centroid_lat\", lon=\"centroid_lon\",     color=\"peak_hour\", size=\"car_hours\",\n",
    "                  color_continuous_scale=px.colors.cyclical.IceFire, size_max=15, zoom=10)\n",
    "fig.show()"
   ]
  },
  {
   "cell_type": "code",
   "execution_count": null,
   "metadata": {},
   "outputs": [],
   "source": []
  },
  {
   "cell_type": "code",
   "execution_count": null,
   "metadata": {},
   "outputs": [],
   "source": []
  }
 ],
 "metadata": {
  "kernelspec": {
   "display_name": "py38",
   "language": "python",
   "name": "python3"
  },
  "language_info": {
   "codemirror_mode": {
    "name": "ipython",
    "version": 3
   },
   "file_extension": ".py",
   "mimetype": "text/x-python",
   "name": "python",
   "nbconvert_exporter": "python",
   "pygments_lexer": "ipython3",
   "version": "3.8.15"
  },
  "orig_nbformat": 4,
  "vscode": {
   "interpreter": {
    "hash": "f8daa8cf081d519e6115328af5c7835761d6871f4279c0a8b79269c22be2bb60"
   }
  }
 },
 "nbformat": 4,
 "nbformat_minor": 2
}
